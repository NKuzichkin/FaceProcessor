{
  "nbformat": 4,
  "nbformat_minor": 0,
  "metadata": {
    "kernelspec": {
      "display_name": "Python 3",
      "language": "python",
      "name": "python3"
    },
    "language_info": {
      "codemirror_mode": {
        "name": "ipython",
        "version": 3
      },
      "file_extension": ".py",
      "mimetype": "text/x-python",
      "name": "python",
      "nbconvert_exporter": "python",
      "pygments_lexer": "ipython3",
      "version": "3.7.3"
    },
    "colab": {
      "name": "Copy of start.ipynb",
      "version": "0.3.2",
      "provenance": []
    }
  },
  "cells": [
    {
      "cell_type": "code",
      "metadata": {
        "id": "JsKrKJKySRSe",
        "colab_type": "code",
        "colab": {}
      },
      "source": [
        "!pip install onnx\n",
        "!pip install mxnet-cu90mkl --pre -U \n",
        "!pip install numpy\n",
        "!pip install matplotlib\n",
        "!pip install opencv-python\n",
        "!pip install scikit-learn\n",
        "!pip install easydict\n",
        "!pip install easydict"
      ],
      "execution_count": 0,
      "outputs": []
    },
    {
      "cell_type": "code",
      "metadata": {
        "id": "5zQzGQdDRtLZ",
        "colab_type": "code",
        "colab": {}
      },
      "source": [
        "import FaceProcessor"
      ],
      "execution_count": 0,
      "outputs": []
    }
  ]
}